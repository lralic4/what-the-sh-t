{
 "cells": [
  {
   "cell_type": "code",
   "execution_count": 1,
   "id": "8d0046ed-896e-4ecf-8952-95cefdf0a260",
   "metadata": {},
   "outputs": [],
   "source": [
    "import numpy as np\n",
    "import os\n",
    "import PIL\n",
    "import PIL.Image\n",
    "import tensorflow as tf\n",
    "import tensorflow_datasets as tfds\n",
    "import matplotlib.pyplot as plt"
   ]
  },
  {
   "cell_type": "code",
   "execution_count": 2,
   "id": "b9e8ac3c-8990-4d05-a183-b22330a31542",
   "metadata": {},
   "outputs": [],
   "source": [
    "data_dir = './training-data'\n",
    "BATCH_SIZE = 32\n",
    "img_height = 180\n",
    "img_width = 180"
   ]
  },
  {
   "cell_type": "code",
   "execution_count": 3,
   "id": "aefb2add-11cd-430a-995c-8b04e4b51bd2",
   "metadata": {},
   "outputs": [
    {
     "name": "stdout",
     "output_type": "stream",
     "text": [
      "Found 65 files belonging to 7 classes.\n",
      "Using 52 files for training.\n"
     ]
    }
   ],
   "source": [
    "train_dataset = tf.keras.utils.image_dataset_from_directory(\n",
    "  data_dir,\n",
    "  validation_split=0.2,\n",
    "  subset=\"training\",\n",
    "  seed=123,\n",
    "  image_size=(img_height, img_width),\n",
    "  batch_size=BATCH_SIZE)"
   ]
  },
  {
   "cell_type": "code",
   "execution_count": 4,
   "id": "34161468-46f5-4d8b-b54e-c44e259bc982",
   "metadata": {},
   "outputs": [],
   "source": [
    "class_names = train_dataset.class_names"
   ]
  },
  {
   "cell_type": "code",
   "execution_count": 5,
   "id": "3c5ab2b9-a892-4c99-b301-e5f9ead0e908",
   "metadata": {},
   "outputs": [
    {
     "name": "stdout",
     "output_type": "stream",
     "text": [
      "Found 65 files belonging to 7 classes.\n",
      "Using 13 files for validation.\n"
     ]
    }
   ],
   "source": [
    "validation_dataset = tf.keras.utils.image_dataset_from_directory(\n",
    "  data_dir,\n",
    "  validation_split=0.2,\n",
    "  subset=\"validation\",\n",
    "  seed=123,\n",
    "  image_size=(img_height, img_width),\n",
    "  batch_size=BATCH_SIZE)"
   ]
  },
  {
   "cell_type": "code",
   "execution_count": 6,
   "id": "05a22ef0-7d2c-4f77-86a0-4fc2f592bb1f",
   "metadata": {},
   "outputs": [],
   "source": [
    "AUTOTUNE = tf.data.AUTOTUNE\n",
    "\n",
    "train_ds = train_dataset.cache().shuffle(1000).prefetch(buffer_size=AUTOTUNE)\n",
    "val_ds = validation_dataset.cache().prefetch(buffer_size=AUTOTUNE)"
   ]
  },
  {
   "cell_type": "code",
   "execution_count": 7,
   "id": "4fbf2e37-ef4c-410d-9119-554812c0e4ee",
   "metadata": {},
   "outputs": [],
   "source": [
    "normalization_layer = tf.keras.layers.Rescaling(1./255)"
   ]
  },
  {
   "cell_type": "code",
   "execution_count": 8,
   "id": "e1b4a6c5-4923-4db4-819d-c43b64ee1730",
   "metadata": {},
   "outputs": [
    {
     "name": "stdout",
     "output_type": "stream",
     "text": [
      "0.0 1.0\n"
     ]
    }
   ],
   "source": [
    "normalized_ds = train_ds.map(lambda x, y: (normalization_layer(x), y))\n",
    "image_batch, labels_batch = next(iter(normalized_ds))\n",
    "first_image = image_batch[0]\n",
    "# Notice the pixel values are now in `[0,1]`.\n",
    "print(np.min(first_image), np.max(first_image))"
   ]
  },
  {
   "cell_type": "code",
   "execution_count": 9,
   "id": "d7c1aeab-b9d5-4f1c-af61-cb19295b545b",
   "metadata": {},
   "outputs": [],
   "source": [
    "data_augmentation = tf.keras.Sequential(\n",
    "  [\n",
    "    tf.keras.layers.RandomFlip(\"horizontal_and_vertical\",\n",
    "                      input_shape=(img_height,\n",
    "                                  img_width,\n",
    "                                  3)),\n",
    "    tf.keras.layers.RandomRotation(0.1),\n",
    "    tf.keras.layers.RandomZoom(0.1),\n",
    "  ]\n",
    ")"
   ]
  },
  {
   "cell_type": "code",
   "execution_count": 10,
   "id": "ac71dfd0-45c6-4c81-b686-cd8d6e872bea",
   "metadata": {},
   "outputs": [],
   "source": [
    "num_classes = len(class_names)\n",
    "\n",
    "model = tf.keras.Sequential([\n",
    "  data_augmentation,\n",
    "  tf.keras.layers.Rescaling(1./255, input_shape=(img_height, img_width, 3)),\n",
    "  tf.keras.layers.Conv2D(16, 3, padding='same', activation='relu'),\n",
    "  tf.keras.layers.MaxPooling2D(),\n",
    "  tf.keras.layers.Conv2D(32, 3, padding='same', activation='relu'),\n",
    "  tf.keras.layers.MaxPooling2D(),\n",
    "  tf.keras.layers.Conv2D(64, 3, padding='same', activation='relu'),\n",
    "  tf.keras.layers.MaxPooling2D(),\n",
    "  tf.keras.layers.Flatten(),\n",
    "  tf.keras.layers.Dense(128, activation='relu'),\n",
    "  tf.keras.layers.Dense(num_classes)\n",
    "])"
   ]
  },
  {
   "cell_type": "code",
   "execution_count": 11,
   "id": "89e3ee3e-78a6-4646-9980-ae15ce1c8580",
   "metadata": {},
   "outputs": [],
   "source": [
    "model.compile(optimizer='adam',\n",
    "              loss=tf.keras.losses.SparseCategoricalCrossentropy(from_logits=True),\n",
    "              metrics=['accuracy'])"
   ]
  },
  {
   "cell_type": "code",
   "execution_count": 12,
   "id": "5421d026-1fe1-4cad-ba30-ecba75211b26",
   "metadata": {},
   "outputs": [
    {
     "name": "stdout",
     "output_type": "stream",
     "text": [
      "Model: \"sequential_1\"\n",
      "_________________________________________________________________\n",
      " Layer (type)                Output Shape              Param #   \n",
      "=================================================================\n",
      " sequential (Sequential)     (None, 180, 180, 3)       0         \n",
      "                                                                 \n",
      " rescaling_1 (Rescaling)     (None, 180, 180, 3)       0         \n",
      "                                                                 \n",
      " conv2d (Conv2D)             (None, 180, 180, 16)      448       \n",
      "                                                                 \n",
      " max_pooling2d (MaxPooling2  (None, 90, 90, 16)        0         \n",
      " D)                                                              \n",
      "                                                                 \n",
      " conv2d_1 (Conv2D)           (None, 90, 90, 32)        4640      \n",
      "                                                                 \n",
      " max_pooling2d_1 (MaxPoolin  (None, 45, 45, 32)        0         \n",
      " g2D)                                                            \n",
      "                                                                 \n",
      " conv2d_2 (Conv2D)           (None, 45, 45, 64)        18496     \n",
      "                                                                 \n",
      " max_pooling2d_2 (MaxPoolin  (None, 22, 22, 64)        0         \n",
      " g2D)                                                            \n",
      "                                                                 \n",
      " flatten (Flatten)           (None, 30976)             0         \n",
      "                                                                 \n",
      " dense (Dense)               (None, 128)               3965056   \n",
      "                                                                 \n",
      " dense_1 (Dense)             (None, 7)                 903       \n",
      "                                                                 \n",
      "=================================================================\n",
      "Total params: 3989543 (15.22 MB)\n",
      "Trainable params: 3989543 (15.22 MB)\n",
      "Non-trainable params: 0 (0.00 Byte)\n",
      "_________________________________________________________________\n"
     ]
    }
   ],
   "source": [
    "model.summary()"
   ]
  },
  {
   "cell_type": "code",
   "execution_count": 13,
   "id": "c423f36c-376c-49ac-ba37-55fecde7d94d",
   "metadata": {},
   "outputs": [
    {
     "name": "stdout",
     "output_type": "stream",
     "text": [
      "Epoch 1/25\n",
      "2/2 [==============================] - 1s 243ms/step - loss: 2.6677 - accuracy: 0.1346 - val_loss: 2.4797 - val_accuracy: 0.0000e+00\n",
      "Epoch 2/25\n",
      "2/2 [==============================] - 0s 159ms/step - loss: 1.9640 - accuracy: 0.2308 - val_loss: 1.9701 - val_accuracy: 0.2308\n",
      "Epoch 3/25\n",
      "2/2 [==============================] - 0s 157ms/step - loss: 1.9405 - accuracy: 0.2308 - val_loss: 1.8833 - val_accuracy: 0.2308\n",
      "Epoch 4/25\n",
      "2/2 [==============================] - 0s 157ms/step - loss: 1.9291 - accuracy: 0.2692 - val_loss: 1.8570 - val_accuracy: 0.3077\n",
      "Epoch 5/25\n",
      "2/2 [==============================] - 0s 185ms/step - loss: 1.8954 - accuracy: 0.2692 - val_loss: 1.8326 - val_accuracy: 0.2308\n",
      "Epoch 6/25\n",
      "2/2 [==============================] - 0s 190ms/step - loss: 1.8678 - accuracy: 0.2500 - val_loss: 1.8409 - val_accuracy: 0.2308\n",
      "Epoch 7/25\n",
      "2/2 [==============================] - 0s 192ms/step - loss: 1.8474 - accuracy: 0.2308 - val_loss: 1.8476 - val_accuracy: 0.2308\n",
      "Epoch 8/25\n",
      "2/2 [==============================] - 0s 145ms/step - loss: 1.8292 - accuracy: 0.2308 - val_loss: 1.8225 - val_accuracy: 0.2308\n",
      "Epoch 9/25\n",
      "2/2 [==============================] - 0s 147ms/step - loss: 1.7790 - accuracy: 0.2692 - val_loss: 1.8183 - val_accuracy: 0.3077\n",
      "Epoch 10/25\n",
      "2/2 [==============================] - 0s 192ms/step - loss: 1.7367 - accuracy: 0.2692 - val_loss: 1.8104 - val_accuracy: 0.3077\n",
      "Epoch 11/25\n",
      "2/2 [==============================] - 0s 146ms/step - loss: 1.7077 - accuracy: 0.2885 - val_loss: 1.7850 - val_accuracy: 0.3077\n",
      "Epoch 12/25\n",
      "2/2 [==============================] - 0s 194ms/step - loss: 1.6808 - accuracy: 0.2885 - val_loss: 1.7992 - val_accuracy: 0.3077\n",
      "Epoch 13/25\n",
      "2/2 [==============================] - 0s 196ms/step - loss: 1.6860 - accuracy: 0.2692 - val_loss: 1.7530 - val_accuracy: 0.3077\n",
      "Epoch 14/25\n",
      "2/2 [==============================] - 0s 148ms/step - loss: 1.6346 - accuracy: 0.3077 - val_loss: 1.7065 - val_accuracy: 0.3077\n",
      "Epoch 15/25\n",
      "2/2 [==============================] - 0s 209ms/step - loss: 1.5907 - accuracy: 0.3654 - val_loss: 1.7204 - val_accuracy: 0.3846\n",
      "Epoch 16/25\n",
      "2/2 [==============================] - 0s 147ms/step - loss: 1.5781 - accuracy: 0.3654 - val_loss: 1.7159 - val_accuracy: 0.3077\n",
      "Epoch 17/25\n",
      "2/2 [==============================] - 0s 150ms/step - loss: 1.5588 - accuracy: 0.3269 - val_loss: 1.7060 - val_accuracy: 0.3077\n",
      "Epoch 18/25\n",
      "2/2 [==============================] - 0s 214ms/step - loss: 1.5312 - accuracy: 0.4038 - val_loss: 1.7200 - val_accuracy: 0.3077\n",
      "Epoch 19/25\n",
      "2/2 [==============================] - 0s 208ms/step - loss: 1.4955 - accuracy: 0.4038 - val_loss: 1.6920 - val_accuracy: 0.3846\n",
      "Epoch 20/25\n",
      "2/2 [==============================] - 0s 138ms/step - loss: 1.4887 - accuracy: 0.3462 - val_loss: 1.7093 - val_accuracy: 0.3077\n",
      "Epoch 21/25\n",
      "2/2 [==============================] - 0s 208ms/step - loss: 1.4384 - accuracy: 0.4615 - val_loss: 1.7041 - val_accuracy: 0.3077\n",
      "Epoch 22/25\n",
      "2/2 [==============================] - 0s 136ms/step - loss: 1.4369 - accuracy: 0.4231 - val_loss: 1.6945 - val_accuracy: 0.3077\n",
      "Epoch 23/25\n",
      "2/2 [==============================] - 0s 179ms/step - loss: 1.3864 - accuracy: 0.4038 - val_loss: 1.6901 - val_accuracy: 0.3846\n",
      "Epoch 24/25\n",
      "2/2 [==============================] - 0s 217ms/step - loss: 1.4509 - accuracy: 0.4231 - val_loss: 1.7769 - val_accuracy: 0.3077\n",
      "Epoch 25/25\n",
      "2/2 [==============================] - 0s 211ms/step - loss: 1.3271 - accuracy: 0.4038 - val_loss: 1.7909 - val_accuracy: 0.3846\n"
     ]
    }
   ],
   "source": [
    "epochs=25\n",
    "history = model.fit(\n",
    "  train_ds,\n",
    "  validation_data=val_ds,\n",
    "  epochs=epochs\n",
    ")"
   ]
  },
  {
   "cell_type": "code",
   "execution_count": 14,
   "id": "b9bbd701-09bb-4fe5-ad4d-7257b836bf37",
   "metadata": {},
   "outputs": [
    {
     "data": {
      "image/png": "[encoded data removed]",
      "text/plain": [
       "<Figure size 800x800 with 2 Axes>"
      ]
     },
     "metadata": {},
     "output_type": "display_data"
    }
   ],
   "source": [
    "acc = history.history['accuracy']\n",
    "val_acc = history.history['val_accuracy']\n",
    "\n",
    "loss = history.history['loss']\n",
    "val_loss = history.history['val_loss']\n",
    "\n",
    "epochs_range = range(epochs)\n",
    "\n",
    "plt.figure(figsize=(8, 8))\n",
    "plt.subplot(1, 2, 1)\n",
    "plt.plot(epochs_range, acc, label='Training Accuracy')\n",
    "plt.plot(epochs_range, val_acc, label='Validation Accuracy')\n",
    "plt.legend(loc='lower right')\n",
    "plt.title('Training and Validation Accuracy')\n",
    "\n",
    "plt.subplot(1, 2, 2)\n",
    "plt.plot(epochs_range, loss, label='Training Loss')\n",
    "plt.plot(epochs_range, val_loss, label='Validation Loss')\n",
    "plt.legend(loc='upper right')\n",
    "plt.title('Training and Validation Loss')\n",
    "plt.show()"
   ]
  },
  {
   "cell_type": "code",
   "execution_count": 15,
   "id": "267fb4f4-ea30-4819-af0c-e5ce8e2f6443",
   "metadata": {},
   "outputs": [
    {
     "name": "stdout",
     "output_type": "stream",
     "text": [
      "1/1 [==============================] - 0s 57ms/step\n",
      "This image most likely belongs to type-4 with a 34.68 percent confidence.\n"
     ]
    }
   ],
   "source": [
    "fullPath = os.path.abspath(\"./testimage1.jpeg\")  # or similar, depending on your scenario\n",
    "image_path = tf.keras.utils.get_file('./testimage1.jpeg', 'file://'+fullPath)\n",
    "\n",
    "img = tf.keras.utils.load_img(\n",
    "    image_path, target_size=(img_height, img_width)\n",
    ")\n",
    "img_array = tf.keras.utils.img_to_array(img)\n",
    "img_array = tf.expand_dims(img_array, 0) # Create a batch\n",
    "\n",
    "predictions = model.predict(img_array)\n",
    "score = tf.nn.softmax(predictions[0])\n",
    "\n",
    "print(\n",
    "    \"This image most likely belongs to {} with a {:.2f} percent confidence.\"\n",
    "    .format(class_names[np.argmax(score)], 100 * np.max(score))\n",
    ")"
   ]
  },
  {
   "cell_type": "code",
   "execution_count": 16,
   "id": "9b7cf51f-92b2-4cda-a14f-9a1a5367145c",
   "metadata": {},
   "outputs": [
    {
     "name": "stderr",
     "output_type": "stream",
     "text": [
      "/Users/luka/.pyenv/versions/3.8.16/lib/python3.8/site-packages/keras/src/engine/training.py:3000: UserWarning: You are saving your model as an HDF5 file via `model.save()`. This file format is considered legacy. We recommend using instead the native Keras format, e.g. `model.save('my_model.keras')`.\n",
      "  saving_api.save_model(\n"
     ]
    }
   ],
   "source": [
    "model.save('bristol-model.h5')"
   ]
  },
  {
   "cell_type": "code",
   "execution_count": 17,
   "id": "9b5dd365-4ecb-43b8-b207-15216680e4b1",
   "metadata": {},
   "outputs": [],
   "source": [
    "loaded_model = tf.keras.models.load_model('bristol-model.h5')\n"
   ]
  },
  {
   "cell_type": "code",
   "execution_count": 18,
   "id": "e648c7c1-f217-4b33-8e88-7b36100377ba",
   "metadata": {},
   "outputs": [
    {
     "name": "stdout",
     "output_type": "stream",
     "text": [
      "1/1 [==============================] - 0s 44ms/step\n",
      "This image most likely belongs to type-4 with a 34.68 percent confidence.\n"
     ]
    }
   ],
   "source": [
    "loaded_pred = loaded_model.predict(img_array)\n",
    "loaded_score = tf.nn.softmax(loaded_pred[0])\n",
    "print(\n",
    "    \"This image most likely belongs to {} with a {:.2f} percent confidence.\"\n",
    "    .format(class_names[np.argmax(loaded_score)], 100 * np.max(loaded_score))\n",
    ")"
   ]
  },
  {
   "cell_type": "code",
   "execution_count": null,
   "id": "047779bd-bec1-4a2f-9f7c-9a817246dc89",
   "metadata": {},
   "outputs": [],
   "source": []
  },
  {
   "cell_type": "code",
   "execution_count": null,
   "id": "82feb3e4-703f-4a49-9cbc-da2dede618f9",
   "metadata": {},
   "outputs": [],
   "source": []
  }
 ],
 "metadata": {
  "kernelspec": {
   "display_name": "Python 3 (ipykernel)",
   "language": "python",
   "name": "python3"
  },
  "language_info": {
   "codemirror_mode": {
    "name": "ipython",
    "version": 3
   },
   "file_extension": ".py",
   "mimetype": "text/x-python",
   "name": "python",
   "nbconvert_exporter": "python",
   "pygments_lexer": "ipython3",
   "version": "3.8.16"
  }
 },
 "nbformat": 4,
 "nbformat_minor": 5
}
